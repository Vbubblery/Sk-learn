{
 "cells": [
  {
   "cell_type": "code",
   "execution_count": 1,
   "metadata": {},
   "outputs": [],
   "source": [
    "from sklearn import datasets\n",
    "from sklearn.utils import check_array\n",
    "from sklearn.metrics import accuracy_score\n",
    "from sklearn.model_selection import cross_val_score\n",
    "from sklearn.base import ClassifierMixin\n",
    "from sklearn.neighbors.base import SupervisedIntegerMixin\n",
    "from sklearn.neighbors.base import NeighborsBase,KNeighborsMixin\n",
    "from sklearn.model_selection import cross_val_score\n",
    "from collections import Counter\n",
    "import numpy as np"
   ]
  },
  {
   "cell_type": "code",
   "execution_count": 2,
   "metadata": {},
   "outputs": [],
   "source": [
    "cancer = datasets.load_breast_cancer()\n",
    "dataset_x = cancer.data\n",
    "dataset_y = cancer.target"
   ]
  },
  {
   "cell_type": "code",
   "execution_count": 3,
   "metadata": {},
   "outputs": [],
   "source": [
    "class Mcc(SupervisedIntegerMixin, ClassifierMixin,NeighborsBase, KNeighborsMixin):\n",
    "    def __init__(self,voting=\"hard\"):\n",
    "        self.voting=voting\n",
    "        self.predit_result=None;\n",
    "    def fit(self,x,y):\n",
    "        word_counts = Counter(y)\n",
    "        self.predit_result = word_counts.most_common(1)[0][0]\n",
    "    def predict(self,x):\n",
    "        l = len(x)\n",
    "        pro = np.zeros(l)\n",
    "        for i in range(0,l):\n",
    "            pro[i]=self.predit_result\n",
    "        return pro"
   ]
  },
  {
   "cell_type": "code",
   "execution_count": 4,
   "metadata": {
    "scrolled": true
   },
   "outputs": [
    {
     "data": {
      "text/plain": [
       "0.7692147034252298"
      ]
     },
     "execution_count": 4,
     "metadata": {},
     "output_type": "execute_result"
    }
   ],
   "source": [
    "train_x = dataset_x[:400]\n",
    "train_y = dataset_y[:400]\n",
    "test_x = dataset_x[400:]\n",
    "test_y = dataset_y[400:]\n",
    "mcc = Mcc()\n",
    "mcc.fit(train_x,train_y)\n",
    "score = cross_val_score(mcc,test_x,test_y)\n",
    "score.mean()"
   ]
  },
  {
   "cell_type": "code",
   "execution_count": 5,
   "metadata": {},
   "outputs": [
    {
     "name": "stdout",
     "output_type": "stream",
     "text": [
      "Accuracy is 0.9349112426035503\n"
     ]
    }
   ],
   "source": [
    "import numpy as np\n",
    "from sklearn.neighbors import KNeighborsClassifier\n",
    "knn = KNeighborsClassifier(n_neighbors=5)\n",
    "knn.fit(train_x, train_y)    \n",
    "from sklearn.metrics import accuracy_score\n",
    "accuracy_knn= accuracy_score(test_y,knn.predict(test_x))\n",
    "print (\"Accuracy is {0}\".format(accuracy_knn))"
   ]
  },
  {
   "cell_type": "code",
   "execution_count": null,
   "metadata": {
    "collapsed": true
   },
   "outputs": [],
   "source": []
  }
 ],
 "metadata": {
  "kernelspec": {
   "display_name": "Python 3",
   "language": "python",
   "name": "python3"
  },
  "language_info": {
   "codemirror_mode": {
    "name": "ipython",
    "version": 3
   },
   "file_extension": ".py",
   "mimetype": "text/x-python",
   "name": "python",
   "nbconvert_exporter": "python",
   "pygments_lexer": "ipython3",
   "version": "3.5.4"
  }
 },
 "nbformat": 4,
 "nbformat_minor": 2
}
